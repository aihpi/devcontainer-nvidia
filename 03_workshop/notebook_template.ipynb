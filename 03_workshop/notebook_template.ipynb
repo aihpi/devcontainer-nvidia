{
 "cells": [
  {
   "cell_type": "markdown",
   "id": "04165eda",
   "metadata": {},
   "source": [
    "<div style=\"background-color: #ffffff; color: #000000; padding: 10px;\">\n",
    "<div style=\"display: flex; justify-content: space-between; align-items: center; background-color: #ffffff; color: #000000; padding: 10px;\">\n",
    "    <img src=\"../00_aisc/img/logo_aisc_150dpi.png\" height=\"80\" style=\"margin-right: auto;\" alt=\"Logo of the AI Service Center Berlin-Brandenburg.\">\n",
    "    <img src=\"../00_aisc/img/logo_bmftr_de.png\" height=\"150\" style=\"margin-left: auto;\" alt=\"Logo of the German Federal Ministry of Research, Technology and Space: Gefördert vom Bundesministerium für Forschung, Technologie und Raumfahrt.\">\n",
    "</div>\n",
    "<h1> Dies ist der Titel des Workshops\n",
    "<h2> Dies ist der Untertitel des Workshops (wenn vorhanden)\n",
    "</div>"
   ]
  },
  {
   "cell_type": "markdown",
   "id": "b825dabe",
   "metadata": {},
   "source": [
    "<div style=\"background-color: #f6a800; color: #ffffff; padding: 10px;\">\n",
    "    <h2> Overview"
   ]
  },
  {
   "cell_type": "markdown",
   "id": "8d2441db-0ad8-40f2-b042-6bb96f184711",
   "metadata": {},
   "source": [
    "Die Lernmaterialien in `03_workshop` können unter anderem aus Notebooks bestehen. Das erste Notebook heißt\n",
    "\n",
    "- `00_overview.ipynb`\n",
    "\n",
    "Weitere Notebook haben einen Titel, der erkennen lässt, welches Thema die Notebook behandeln, z.B.\n",
    "\n",
    "- `01_introduction_to_embeddings.ipynb`\n",
    "- `02_building_a_chatbot.ipynb`\n",
    "- `03_combining_a_chatbot_with_RAG.ipynb`\n",
    "\n",
    "Das erste Notebook `00_overview.ipynb` ist besonders, da in dem gelben Balken lediglich \"Overview\" steht. In den anderen Notebooks steht zusätzlich \"Teil 1\", \"Teil 2\" etc. im gelben Balken, also z.B. \"Teil 1 - Einleitung zu Embeddings\"."
   ]
  },
  {
   "cell_type": "markdown",
   "id": "7f3c8f34",
   "metadata": {},
   "source": [
    "<div style=\"background-color: #dd6108; color: #ffffff; padding: 10px;\">\n",
    "<h3>1. Einführung der Sektionen</h3>\n",
    "</div>"
   ]
  },
  {
   "cell_type": "markdown",
   "id": "8171c952",
   "metadata": {},
   "source": [
    "Die Notebooks teilen sich in verschiedene Sektionen auf. Jede Sektion hat einen eigenen Titel. Der Titel dieser Sektion ist \"1. Einführung der Sektionen\"\n"
   ]
  },
  {
   "cell_type": "markdown",
   "id": "4cff51b4",
   "metadata": {},
   "source": [
    "<div style=\"background-color: #dd6108; color: #ffffff; padding: 10px;\">\n",
    "<h3>2. Weiterführende Hinweise</h3>\n",
    "</div>"
   ]
  },
  {
   "cell_type": "markdown",
   "id": "8192bec0",
   "metadata": {
    "vscode": {
     "languageId": "plaintext"
    }
   },
   "source": [
    "In dieser Sektion, \"2. Weiterführende Hinweise\" noch ein paar Hinweise:\n",
    "\n",
    "- Es gibt keine weiteren Vorgaben für das Layout. Verwende Techniken von `Markdown`, die dir sinnvoll erscheinen.\n",
    "- Neben Listen kannst du auch Titel einfügen, um die jeweilgen Sektionen weiter zu untergliedern.\n",
    "\n",
    "#### Verwende allerdings nur Titel auf dem vierten Level für einen konsistenten Look\n",
    "\n",
    "##### Titel auf dem fünften Level sind auch i.O"
   ]
  },
  {
   "cell_type": "code",
   "execution_count": null,
   "id": "e28586fa",
   "metadata": {},
   "outputs": [
    {
     "name": "stdout",
     "output_type": "stream",
     "text": [
      "Hallo Welt\n"
     ]
    }
   ],
   "source": [
    "# Natürlich kannst du auch Code-Blocks verwenden\n",
    "!echo \"Hallo Welt\""
   ]
  },
  {
   "cell_type": "markdown",
   "id": "bbe7f0ef",
   "metadata": {},
   "source": [
    "Wenn dir etwas unklar sein sollte, schau dir die Notebooks in den anderen Repositories an."
   ]
  }
 ],
 "metadata": {
  "kernelspec": {
   "display_name": "Python 3",
   "language": "python",
   "name": "python3"
  },
  "language_info": {
   "codemirror_mode": {
    "name": "ipython",
    "version": 3
   },
   "file_extension": ".py",
   "mimetype": "text/x-python",
   "name": "python",
   "nbconvert_exporter": "python",
   "pygments_lexer": "ipython3",
   "version": "3.10.12"
  }
 },
 "nbformat": 4,
 "nbformat_minor": 5
}
